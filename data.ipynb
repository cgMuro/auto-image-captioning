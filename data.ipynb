{
 "metadata": {
  "language_info": {
   "codemirror_mode": {
    "name": "ipython",
    "version": 3
   },
   "file_extension": ".py",
   "mimetype": "text/x-python",
   "name": "python",
   "nbconvert_exporter": "python",
   "pygments_lexer": "ipython3",
   "version": "3.8.5-final"
  },
  "orig_nbformat": 2,
  "kernelspec": {
   "name": "python3",
   "display_name": "Python 3"
  }
 },
 "nbformat": 4,
 "nbformat_minor": 2,
 "cells": [
  {
   "cell_type": "code",
   "execution_count": 88,
   "metadata": {},
   "outputs": [],
   "source": [
    "import string\n",
    "import numpy as np \n"
   ]
  },
  {
   "source": [
    "# Prepare text data"
   ],
   "cell_type": "markdown",
   "metadata": {}
  },
  {
   "source": [
    "We are going to prepare the text data (i.e. the descriptions of the images) by doing:   \n",
    "<ol>\n",
    "    <li>Load the data</li>\n",
    "    <li>Create a dictionary that maps each photo to their descriptions</li>\n",
    "    <li>Clean the descriptions (text to lowercase, remove puctuation, remove words that contain numbers)</li>\n",
    "    <li>Create a vocabolary containing all the words in the descriptions</li>\n",
    "    <li>Save the cleaned data to a file</li>\n",
    "</ol>   "
   ],
   "cell_type": "markdown",
   "metadata": {}
  },
  {
   "source": [
    "## 1. Load data"
   ],
   "cell_type": "markdown",
   "metadata": {}
  },
  {
   "cell_type": "code",
   "execution_count": 89,
   "metadata": {},
   "outputs": [],
   "source": [
    "with open('./Flickr8k_text/Flickr8k.token.txt', 'r') as f:\n",
    "    corpus = f.read()"
   ]
  },
  {
   "source": [
    "## 2. Create Dictionary"
   ],
   "cell_type": "markdown",
   "metadata": {}
  },
  {
   "source": [
    "This is an example of how the data is displayed inside the corpus variable:  \n",
    "\n",
    "         \n",
    "```956164675_9ee084364e.jpg#0\\tA runner in a yellow shirt is cresting a hill .\\n956164675_9ee084364e.jpg#1\\tA runner with one green shoe and one white shoe runs uphill .\\n956164675_9ee084364e.jpg#2\\tA single runner is watched by onlookers in a race .\\n956164675_9ee084364e.jpg#3\\tMan wearing green sneakers runs down highway .\\n956164675_9ee084364e.jpg#4\\tThe runner in red and yellow has just made it up the hill .\\n```   \n",
    "\n",
    "\n",
    "We have each line that is separated by `\\n` and the name of the photo and its description are separated with `\\t`."
   ],
   "cell_type": "markdown",
   "metadata": {}
  },
  {
   "cell_type": "code",
   "execution_count": 90,
   "metadata": {
    "tags": []
   },
   "outputs": [],
   "source": [
    "doc = corpus.split('\\n')\n",
    "photo_to_desc = dict()\n",
    "\n",
    "# We need to use doc[:-1] because the last line is an empty line\n",
    "for i in doc[:-1]:\n",
    "    photo_id, desc = i.split('\\t')\n",
    "    photo_id = photo_id[:-2]\n",
    "    if photo_id in photo_to_desc.keys():\n",
    "        photo_to_desc[photo_id].append(desc)\n",
    "    else:\n",
    "        photo_to_desc[photo_id] = [desc]"
   ]
  },
  {
   "source": [
    "## 3. Clean Descriptions"
   ],
   "cell_type": "markdown",
   "metadata": {}
  },
  {
   "cell_type": "code",
   "execution_count": 91,
   "metadata": {
    "tags": []
   },
   "outputs": [],
   "source": [
    "for key, desc_lst in photo_to_desc.items():\n",
    "    for idx, desc in enumerate(desc_lst):\n",
    "        # Lower case\n",
    "        desc = desc.lower()\n",
    "        # Punctuation\n",
    "        for p in string.punctuation:\n",
    "            desc = desc.replace(p, '')\n",
    "        # Remove words that contain numbers\n",
    "        for word in desc:\n",
    "            if not word.isalpha() and word != ' ':\n",
    "                desc = desc.replace(word, '')\n",
    "        # Remove whitespaces at the end and at the beginning\n",
    "        desc = desc.strip()\n",
    "\n",
    "        photo_to_desc[key][idx] = desc"
   ]
  },
  {
   "cell_type": "code",
   "execution_count": 92,
   "metadata": {
    "tags": []
   },
   "outputs": [
    {
     "output_type": "stream",
     "name": "stdout",
     "text": [
      "['a child in a pink dress is climbing up a set of stairs in an entry way', 'a girl going into a wooden building', 'a little girl climbing into a wooden playhouse', 'a little girl climbing the stairs to her playhouse', 'a little girl in a pink dress going into a wooden cabin']\n"
     ]
    }
   ],
   "source": [
    "print(photo_to_desc['1000268201_693b08cb0e.jpg'])"
   ]
  },
  {
   "source": [
    "## 4. Create Vocabolary"
   ],
   "cell_type": "markdown",
   "metadata": {}
  },
  {
   "cell_type": "code",
   "execution_count": 93,
   "metadata": {},
   "outputs": [],
   "source": [
    "vocab = set()\n",
    "\n",
    "for key in photo_to_desc.keys():\n",
    "    [vocab.update(d.split()) for d in photo_to_desc[key]]"
   ]
  },
  {
   "source": [
    "## 5. Save The Cleaned Data"
   ],
   "cell_type": "markdown",
   "metadata": {}
  },
  {
   "cell_type": "code",
   "execution_count": 95,
   "metadata": {},
   "outputs": [],
   "source": [
    "lines = list()\n",
    "\n",
    "for key, desc_lst in photo_to_desc.items():\n",
    "    for desc in desc_lst:\n",
    "        lines.append(f\"{key} {desc}\")\n",
    "\n",
    "data = '\\n'.join(lines)\n",
    "\n",
    "with open('descriptions.txt', 'w') as f:\n",
    "    f.write(data)"
   ]
  },
  {
   "cell_type": "code",
   "execution_count": null,
   "metadata": {},
   "outputs": [],
   "source": []
  }
 ]
}